{
 "cells": [
  {
   "cell_type": "code",
   "execution_count": 8,
   "metadata": {},
   "outputs": [],
   "source": [
    "import numpy as np\n",
    "from scipy.integrate import solve_ivp\n",
    "import math\n",
    "import matplotlib.pyplot as plt"
   ]
  },
  {
   "cell_type": "markdown",
   "metadata": {},
   "source": [
    "This is written using LaTeX in Markdown display mode<BR>\n",
    "The control volume of this system is the water in the tank with a mass m or volume V<BR>\n",
    "$$\\text{Accumulation = rate of mass in - rate of mass out}$$ <BR>\n",
    "$$\\frac{dm}{dt}=\\dot{m}_{in}-\\dot{m}_{out}$$ \n",
    "$$\\dot{m}_{in}=1.61 g/s=1.61\\times 10^{-3}kg/s$$<BR>\n",
    "$$\\dot{m}_{out}=\\rho A_{out}\\left(2g\\frac{4m}{\\pi D^2\\rho}\\right)^{0.5}$$<BR>\n",
    "$$\\text{at}\\, t=0\\,m_i=145g$$<BR>\n",
    "with\n",
    "$\\rho=1000 \\,kg/m^3$\n",
    "$D=0.075m$\n",
    "$g=9.81 m/s^2$\n"
   ]
  },
  {
   "cell_type": "code",
   "execution_count": 9,
   "metadata": {},
   "outputs": [],
   "source": [
    "#This function is to return the values of the 2 derivatives for the reaction A => B with first order kinetics\n",
    "def  ODEfun(t,Yfuncvec):#fun(t,y) and return dy/dt\n",
    "    m = Yfuncvec[0] \n",
    "    \n",
    "    \n",
    "    rho=1000\n",
    "    g=9.81\n",
    "    D=0.075\n",
    "    Aout=np.pi/4*0.001**2\n",
    "    mdotOUT=rho*Aout*(2*g*4*m/np.pi/D**2/rho)**0.5\n",
    "    \n",
    "    dmdt = 1.61e-3-mdotOUT\n",
    "    \n",
    "    dYfuncvecdt = [dmdt] \n",
    "    return dYfuncvecdt "
   ]
  },
  {
   "cell_type": "code",
   "execution_count": 10,
   "metadata": {},
   "outputs": [
    {
     "name": "stdout",
     "output_type": "stream",
     "text": [
      "[0.0009797437226652214]\n"
     ]
    }
   ],
   "source": [
    "#test of function ODEfun.  This will return values of dFA/dV=rA and dFB/dV=-rA at a value of V\n",
    "m0 = [0.145] # Initial values for the dependent variables V\n",
    "sol=ODEfun(0,m0)#Evaluates the derivatives at t=0s\n",
    "print (sol)"
   ]
  },
  {
   "cell_type": "code",
   "execution_count": 11,
   "metadata": {},
   "outputs": [
    {
     "name": "stdout",
     "output_type": "stream",
     "text": [
      "0.0009797437226652214 0.0006302562773347787 7.853981633974482e-07 0.004417864669110647 0.8024672156202121\n"
     ]
    }
   ],
   "source": [
    "m=0.145\n",
    "rho=1000\n",
    "g=9.81\n",
    "D=0.075\n",
    "Aout=np.pi/4*0.001**2\n",
    "Atank=np.pi/4*0.075**2\n",
    "vout=(2*g*4*m/np.pi/D**2/rho)**0.5\n",
    "mdotOUT=rho*Aout*(2*g*4*m/np.pi/D**2/rho)**0.5\n",
    "\n",
    "dmdt = 1.61e-3-mdotOUT   \n",
    "print(dmdt,mdotOUT,Aout,Atank,vout)"
   ]
  },
  {
   "cell_type": "code",
   "execution_count": 12,
   "metadata": {},
   "outputs": [
    {
     "name": "stdout",
     "output_type": "stream",
     "text": [
      "  message: 'The solver successfully reached the end of the integration interval.'\n",
      "     nfev: 26\n",
      "     njev: 0\n",
      "      nlu: 0\n",
      "      sol: None\n",
      "   status: 0\n",
      "  success: True\n",
      "        t: array([  0.        ,   0.27204959,   2.99254547,  30.19750432,\n",
      "       176.        ])\n",
      " t_events: None\n",
      "        y: array([[0.145     , 0.14526646, 0.14792245, 0.17366474, 0.29169792]])\n",
      " y_events: None\n"
     ]
    }
   ],
   "source": [
    "#test of solve_ivp function (python ODE Initial Value Problem solver from scipy library)\n",
    "tspan = (0,176) # Range for the independent variable t \n",
    "#The inputs to solve_ivp are the functions in ODEfun, the integration start&stop, \n",
    "#and the initial values of V\n",
    "sol=solve_ivp(ODEfun,tspan,m0) \n",
    "print (sol)"
   ]
  },
  {
   "cell_type": "markdown",
   "metadata": {},
   "source": [
    "Plotting the results from t = 0 to 176s\n"
   ]
  },
  {
   "cell_type": "code",
   "execution_count": 13,
   "metadata": {},
   "outputs": [
    {
     "data": {
      "text/plain": [
       "[<matplotlib.lines.Line2D at 0x1e62fc36308>]"
      ]
     },
     "execution_count": 13,
     "metadata": {},
     "output_type": "execute_result"
    },
    {
     "data": {
      "image/png": "[encoded data removed]",
      "text/plain": [
       "<Figure size 432x288 with 1 Axes>"
      ]
     },
     "metadata": {
      "needs_background": "light"
     },
     "output_type": "display_data"
    }
   ],
   "source": [
    "#This is a simple plot\n",
    "plt.plot(sol.t,sol.y[0])"
   ]
  },
  {
   "cell_type": "markdown",
   "metadata": {},
   "source": [
    "In the notes it asks how long it would take to double the mass\n",
    "$$\\frac{dm}{dt}=\\dot{m}_{in}-\\dot{m}_{out}$$ \n",
    "Rearranging the ODE\n",
    "$$\\frac{dt}{dm}=\\frac{1}{\\dot{m}_{in}-\\dot{m}_{out}}$$ \n",
    "$$\\dot{m}_{in}=1.61 g/s=1.61\\times 10^{-3}kg/s$$<BR>\n",
    "$$\\dot{m}_{out}=\\rho A_{out}\\left(2g\\frac{4m}{\\pi D^2\\rho}\\right)^{0.5}$$<BR>\n",
    "$$\\text{at}\\, t=0\\,m_i=145g$$<BR>\n",
    "with\n",
    "$\\rho=1000 \\,kg/m^3$\n",
    "$D=0.075m$\n",
    "$g=9.81 m/s^2$\n"
   ]
  },
  {
   "cell_type": "code",
   "execution_count": 14,
   "metadata": {},
   "outputs": [],
   "source": [
    "#This function is to return the values of the 2 derivatives for the reaction A => B with first order kinetics\n",
    "def  ODEInversefun(m,tfuncvec):#fun(t,y) and return dy/dt\n",
    "    t = tfuncvec[0] \n",
    "        \n",
    "    rho=1000\n",
    "    g=9.81\n",
    "    D=0.075\n",
    "    Aout=np.pi/4*0.001**2\n",
    "    mdotOUT=rho*Aout*(2*g*4*m/np.pi/D**2/rho)**0.5\n",
    "    \n",
    "    dtdm = 1/(1.61e-3-mdotOUT)\n",
    "    \n",
    "    dtfuncvecdm = [dtdm] \n",
    "    return dtfuncvecdm"
   ]
  },
  {
   "cell_type": "code",
   "execution_count": 15,
   "metadata": {},
   "outputs": [
    {
     "name": "stdout",
     "output_type": "stream",
     "text": [
      "0.0006302562773347787 1020.6750774372658\n"
     ]
    }
   ],
   "source": [
    "rho=1000\n",
    "g=9.81\n",
    "D=0.075\n",
    "Aout=np.pi/4*0.001**2\n",
    "\n",
    "m=0.145\n",
    "mdotOUT=rho*Aout*(2*g*4*m/np.pi/D**2/rho)**0.5\n",
    "\n",
    "dtdm = 1/(1.61e-3-mdotOUT)\n",
    "print(mdotOUT,dtdm)\n",
    " "
   ]
  },
  {
   "cell_type": "code",
   "execution_count": 16,
   "metadata": {},
   "outputs": [
    {
     "name": "stdout",
     "output_type": "stream",
     "text": [
      "  message: 'The solver successfully reached the end of the integration interval.'\n",
      "     nfev: 32\n",
      "     njev: 0\n",
      "      nlu: 0\n",
      "      sol: None\n",
      "   status: 0\n",
      "  success: True\n",
      "        t: array([0.145  , 0.15225, 0.1595 , 0.16675, 0.174  , 0.18125, 0.1885 ,\n",
      "       0.19575, 0.203  , 0.21025, 0.2175 , 0.22475, 0.232  , 0.23925,\n",
      "       0.2465 , 0.25375, 0.261  , 0.26825, 0.2755 , 0.28275, 0.29   ])\n",
      " t_events: None\n",
      "        y: array([[  0.        ,   7.45954457,  15.03901449,  22.73942666,\n",
      "         30.56192473,  38.50775197,  46.5782472 ,  54.7748448 ,\n",
      "         63.0990747 ,  71.55256236,  80.13702879,  88.85429057,\n",
      "         97.70625981, 106.69494417, 115.82244686, 125.09096664,\n",
      "        134.50280075, 144.06035388, 153.76613195, 163.62274933,\n",
      "        173.63292943]])\n",
      " y_events: None\n"
     ]
    }
   ],
   "source": [
    "#makes a smoother line by using more values\n",
    "mspan=(0.145,2*0.145)\n",
    "t0=[0]\n",
    "teval=np.linspace(mspan[0],mspan[1],21)\n",
    "sol=solve_ivp(ODEInversefun,mspan,t0,t_eval=teval)\n",
    "print (sol)"
   ]
  },
  {
   "cell_type": "code",
   "execution_count": 19,
   "metadata": {},
   "outputs": [
    {
     "name": "stdout",
     "output_type": "stream",
     "text": [
      "        Summary of Results\n",
      "\n",
      "   t   m     \n",
      "  (s)   (kg)    \n",
      " 0.145     0.0000       \n",
      " 0.152     7.4595       \n",
      " 0.159    15.0390       \n",
      " 0.167    22.7394       \n",
      " 0.174    30.5619       \n",
      " 0.181    38.5078       \n",
      " 0.189    46.5782       \n",
      " 0.196    54.7748       \n",
      " 0.203    63.0991       \n",
      " 0.210    71.5526       \n",
      " 0.217    80.1370       \n",
      " 0.225    88.8543       \n",
      " 0.232    97.7063       \n",
      " 0.239   106.6949       \n",
      " 0.246   115.8224       \n",
      " 0.254   125.0910       \n",
      " 0.261   134.5028       \n",
      " 0.268   144.0604       \n",
      " 0.275   153.7661       \n",
      " 0.283   163.6227       \n",
      " 0.290   173.6329       \n"
     ]
    }
   ],
   "source": [
    "#This cell prints a table of values.  numrows=len(sol.t)#The function len() determines the length of the array (vector or list) \n",
    "numrows=len(sol.t)#This way we don't need to type 101 or any other number\n",
    "print('        Summary of Results\\n')\n",
    "print('   t   m     ')\n",
    "print('  (s)   (kg)    ')\n",
    "\n",
    "row=0\n",
    "for row in range(numrows):\n",
    "    print('{:6.3f} {:10.4f}       '.format(sol.t[row],sol.y[0,row] ))\n",
    "\n"
   ]
  },
  {
   "cell_type": "code",
   "execution_count": 25,
   "metadata": {},
   "outputs": [
    {
     "name": "stdout",
     "output_type": "stream",
     "text": [
      "The time required to double the mass is 173.63 s\n"
     ]
    }
   ],
   "source": [
    "print('The time required to double the mass is {:6.2f} s'.format(sol.y[0][-1]))"
   ]
  }
 ],
 "metadata": {
  "kernelspec": {
   "display_name": "Python 3",
   "language": "python",
   "name": "python3"
  },
  "language_info": {
   "codemirror_mode": {
    "name": "ipython",
    "version": 3
   },
   "file_extension": ".py",
   "mimetype": "text/x-python",
   "name": "python",
   "nbconvert_exporter": "python",
   "pygments_lexer": "ipython3",
   "version": "3.7.6"
  }
 },
 "nbformat": 4,
 "nbformat_minor": 4
}
