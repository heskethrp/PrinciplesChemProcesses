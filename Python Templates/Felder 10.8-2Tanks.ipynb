{
 "cells": [
  {
   "cell_type": "code",
   "execution_count": 6,
   "metadata": {},
   "outputs": [],
   "source": [
    "import numpy as np\n",
    "from scipy.integrate import solve_ivp\n",
    "import math\n",
    "import matplotlib.pyplot as plt"
   ]
  },
  {
   "cell_type": "code",
   "execution_count": 4,
   "metadata": {},
   "outputs": [],
   "source": [
    "#This function is to return the values of the 2 derivatives for the reaction A => B with first order kinetics\n",
    "def  ODEfun(t,Yfuncvec):#fun(t,y) and return dy/dt\n",
    "    V1 = Yfuncvec[0] \n",
    "    V2 = Yfuncvec[1] \n",
    "    \n",
    "    \n",
    "    dV1dt = 0.3*V2-0.2*V1\n",
    "    dV2dt = -V2*0.3\n",
    "    \n",
    "    dYfuncvecdt = [dV1dt, dV2dt] \n",
    "    return dYfuncvecdt "
   ]
  },
  {
   "cell_type": "code",
   "execution_count": 5,
   "metadata": {},
   "outputs": [
    {
     "name": "stdout",
     "output_type": "stream",
     "text": [
      "[280.0, -300.0]\n"
     ]
    }
   ],
   "source": [
    "#test of function ODEfun.  This will return values of dFA/dV=rA and dFB/dV=-rA at a value of V\n",
    "V0 = [100, 1000] # Initial values for the dependent variables V\n",
    "sol=ODEfun(0,V0)#Evaluates the derivatives at t=0s\n",
    "print (sol)"
   ]
  },
  {
   "cell_type": "code",
   "execution_count": 7,
   "metadata": {},
   "outputs": [
    {
     "name": "stdout",
     "output_type": "stream",
     "text": [
      "  message: 'The solver successfully reached the end of the integration interval.'\n",
      "     nfev: 68\n",
      "     njev: 0\n",
      "      nlu: 0\n",
      "      sol: None\n",
      "   status: 0\n",
      "  success: True\n",
      "        t: array([ 0.        ,  0.08713177,  0.95844948,  3.11265977,  5.51713382,\n",
      "        8.21586061, 11.16281172, 14.22342357, 17.32908396, 20.45021348,\n",
      "       23.57615345, 25.        ])\n",
      " t_events: None\n",
      "        y: array([[1.00000000e+02, 1.23848834e+02, 3.08913234e+02, 4.84177299e+02,\n",
      "        4.55086105e+02, 3.44248871e+02, 2.27029282e+02, 1.38152125e+02,\n",
      "        8.02706687e+01, 4.53817496e+01, 2.52220461e+01, 1.92265988e+01],\n",
      "       [1.00000000e+03, 9.74199149e+02, 7.50110532e+02, 3.93079778e+02,\n",
      "        1.91098478e+02, 8.50669703e+01, 3.51581631e+01, 1.40459617e+01,\n",
      "        5.53655499e+00, 2.17232125e+00, 8.51109555e-01, 5.55234323e-01]])\n",
      " y_events: None\n"
     ]
    }
   ],
   "source": [
    "#test of solve_ivp function (python ODE Initial Value Problem solver from scipy library)\n",
    "tspan = (0,25) # Range for the independent variable t \n",
    "#The inputs to solve_ivp are the functions in ODEfun, the integration start&stop, \n",
    "#and the initial values of V\n",
    "sol=solve_ivp(ODEfun,tspan,V0) \n",
    "print (sol)"
   ]
  },
  {
   "cell_type": "markdown",
   "metadata": {},
   "source": [
    "This shows an unrealistic answer since we can not go below zero in the tank.\n",
    "To find this time we can request the solve_ivp to give us more points and\n",
    " - make a plot\n",
    " - print out a table of values\n",
    " - or we can add in a second differential equation to give the time that V <0."
   ]
  },
  {
   "cell_type": "code",
   "execution_count": 8,
   "metadata": {},
   "outputs": [
    {
     "name": "stdout",
     "output_type": "stream",
     "text": [
      "  message: 'The solver successfully reached the end of the integration interval.'\n",
      "     nfev: 68\n",
      "     njev: 0\n",
      "      nlu: 0\n",
      "      sol: None\n",
      "   status: 0\n",
      "  success: True\n",
      "        t: array([ 0.  ,  0.25,  0.5 ,  0.75,  1.  ,  1.25,  1.5 ,  1.75,  2.  ,\n",
      "        2.25,  2.5 ,  2.75,  3.  ,  3.25,  3.5 ,  3.75,  4.  ,  4.25,\n",
      "        4.5 ,  4.75,  5.  ,  5.25,  5.5 ,  5.75,  6.  ,  6.25,  6.5 ,\n",
      "        6.75,  7.  ,  7.25,  7.5 ,  7.75,  8.  ,  8.25,  8.5 ,  8.75,\n",
      "        9.  ,  9.25,  9.5 ,  9.75, 10.  , 10.25, 10.5 , 10.75, 11.  ,\n",
      "       11.25, 11.5 , 11.75, 12.  , 12.25, 12.5 , 12.75, 13.  , 13.25,\n",
      "       13.5 , 13.75, 14.  , 14.25, 14.5 , 14.75, 15.  , 15.25, 15.5 ,\n",
      "       15.75, 16.  , 16.25, 16.5 , 16.75, 17.  , 17.25, 17.5 , 17.75,\n",
      "       18.  , 18.25, 18.5 , 18.75, 19.  , 19.25, 19.5 , 19.75, 20.  ,\n",
      "       20.25, 20.5 , 20.75, 21.  , 21.25, 21.5 , 21.75, 22.  , 22.25,\n",
      "       22.5 , 22.75, 23.  , 23.25, 23.5 , 23.75, 24.  , 24.25, 24.5 ,\n",
      "       24.75, 25.  ])\n",
      " t_events: None\n",
      "        y: array([[1.00000000e+02, 1.65581397e+02, 2.22873322e+02, 2.72646353e+02,\n",
      "        3.15611453e+02, 3.52451985e+02, 3.83741567e+02, 4.09990933e+02,\n",
      "        4.31682832e+02, 4.49272029e+02, 4.63185305e+02, 4.73821461e+02,\n",
      "        4.81551311e+02, 4.86715806e+02, 4.89594402e+02, 4.90418772e+02,\n",
      "        4.89408098e+02, 4.86770285e+02, 4.82701970e+02, 4.77388516e+02,\n",
      "        4.71004014e+02, 4.63711283e+02, 4.55661872e+02, 4.46986931e+02,\n",
      "        4.37776368e+02, 4.28109710e+02, 4.18063068e+02, 4.07709127e+02,\n",
      "        3.97117141e+02, 3.86352940e+02, 3.75478923e+02, 3.64554064e+02,\n",
      "        3.53633906e+02, 3.42770435e+02, 3.31997390e+02, 3.21330815e+02,\n",
      "        3.10787791e+02, 3.00384846e+02, 2.90137959e+02, 2.80062557e+02,\n",
      "        2.70173518e+02, 2.60485169e+02, 2.51011286e+02, 2.41765095e+02,\n",
      "        2.32759271e+02, 2.24005082e+02, 2.15499580e+02, 2.07237982e+02,\n",
      "        1.99217626e+02, 1.91436012e+02, 1.83890800e+02, 1.76579814e+02,\n",
      "        1.69501037e+02, 1.62652616e+02, 1.56032858e+02, 1.49640231e+02,\n",
      "        1.43473367e+02, 1.37531019e+02, 1.31806964e+02, 1.26292696e+02,\n",
      "        1.20981880e+02, 1.15868427e+02, 1.10946495e+02, 1.06210489e+02,\n",
      "        1.01655059e+02, 9.72751028e+01, 9.30657636e+01, 8.90224321e+01,\n",
      "        8.51407448e+01, 8.14165852e+01, 7.78453329e+01, 7.44201239e+01,\n",
      "        7.11354265e+01, 6.79860280e+01, 6.49669061e+01, 6.20732296e+01,\n",
      "        5.93003576e+01, 5.66438404e+01, 5.40994187e+01, 5.16630242e+01,\n",
      "        4.93307792e+01, 4.70989968e+01, 4.49641592e+01, 4.29220999e+01,\n",
      "        4.09688087e+01, 3.91006928e+01, 3.73142835e+01, 3.56062369e+01,\n",
      "        3.39733337e+01, 3.24124791e+01, 3.09207026e+01, 2.94951586e+01,\n",
      "        2.81331257e+01, 2.68320074e+01, 2.55893314e+01, 2.44026634e+01,\n",
      "        2.32694487e+01, 2.21873909e+01, 2.11542920e+01, 2.01680379e+01,\n",
      "        1.92265988e+01],\n",
      "       [1.00000000e+03, 9.27743242e+02, 8.60707498e+02, 7.98516110e+02,\n",
      "        7.40817917e+02, 6.87274981e+02, 6.37593978e+02, 5.91508131e+02,\n",
      "        5.48763819e+02, 5.09120582e+02, 4.72351114e+02, 4.38241270e+02,\n",
      "        4.06590061e+02, 3.77210129e+02, 3.49939015e+02, 3.24635526e+02,\n",
      "        3.01165227e+02, 2.79399804e+02, 2.59217061e+02, 2.40500926e+02,\n",
      "        2.23141445e+02, 2.07034787e+02, 1.92083240e+02, 1.78198088e+02,\n",
      "        1.65308175e+02, 1.53348576e+02, 1.42256873e+02, 1.31973159e+02,\n",
      "        1.22440037e+02, 1.13602619e+02, 1.05408525e+02, 9.78078856e+01,\n",
      "        9.07533415e+01, 8.42000818e+01, 7.81109416e+01, 7.24573576e+01,\n",
      "        6.72116535e+01, 6.23470855e+01, 5.78378425e+01, 5.36590453e+01,\n",
      "        4.97867475e+01, 4.61979351e+01, 4.28705264e+01, 3.97833720e+01,\n",
      "        3.69162553e+01, 3.42501927e+01, 3.17723006e+01, 2.94716716e+01,\n",
      "        2.73371545e+01, 2.53579470e+01, 2.35235963e+01, 2.18239983e+01,\n",
      "        2.02493984e+01, 1.87903910e+01, 1.74379196e+01, 1.61832769e+01,\n",
      "        1.50181048e+01, 1.39344080e+01, 1.29265599e+01, 1.19905706e+01,\n",
      "        1.11219871e+01, 1.03164900e+01, 9.56989332e+00, 8.87814502e+00,\n",
      "        8.23732657e+00, 7.64365314e+00, 7.09347353e+00, 6.58327021e+00,\n",
      "        6.10965928e+00, 5.66939054e+00, 5.25965516e+00, 4.87894521e+00,\n",
      "        4.52553483e+00, 4.19770360e+00, 3.89378300e+00, 3.61215639e+00,\n",
      "        3.35125902e+00, 3.10957805e+00, 2.88565249e+00, 2.67807328e+00,\n",
      "        2.48548322e+00, 2.30657701e+00, 2.14011039e+00, 1.98529545e+00,\n",
      "        1.84152517e+00, 1.70811525e+00, 1.58440167e+00, 1.46974066e+00,\n",
      "        1.36350872e+00, 1.26510261e+00, 1.17393935e+00, 1.08945622e+00,\n",
      "        1.01111078e+00, 9.38380825e-01, 8.70764431e-01, 8.07856991e-01,\n",
      "        7.49480550e-01, 6.95324502e-01, 6.45084700e-01, 5.98476412e-01,\n",
      "        5.55234323e-01]])\n",
      " y_events: None\n"
     ]
    }
   ],
   "source": [
    "#makes a smoother line by using more values\n",
    "teval=np.linspace(tspan[0],tspan[1],101)\n",
    "sol=solve_ivp(ODEfun,tspan,V0,t_eval=teval)\n",
    "print (sol)"
   ]
  },
  {
   "cell_type": "code",
   "execution_count": 9,
   "metadata": {},
   "outputs": [
    {
     "data": {
      "text/plain": [
       "Text(0, 0.5, 'Volume ($m^3$)')"
      ]
     },
     "execution_count": 9,
     "metadata": {},
     "output_type": "execute_result"
    },
    {
     "data": {
      "image/png": "[encoded data removed]",
      "text/plain": [
       "<Figure size 720x864 with 1 Axes>"
      ]
     },
     "metadata": {
      "needs_background": "light"
     },
     "output_type": "display_data"
    }
   ],
   "source": [
    "#plot the data\n",
    "plt.figure(figsize=(10,12))\n",
    "\n",
    "plt.subplot (2,1,1)\n",
    "plt.plot(sol.t,sol.y[0],'g',label='V1 numerical')\n",
    "plt.plot(sol.t,sol.y[1],'b',label='V2 numerical')\n",
    "plt.plot(sol.t,-3000*np.exp(-0.3*sol.t)+3100*np.exp(-0.2*sol.t),'g',linestyle='--',label='V1 analytical')\n",
    "plt.plot(sol.t,1000*np.exp(-0.3*sol.t),'b',linestyle='--',label='V2 analytical')\n",
    "\n",
    "#plt.plot([0,80],[0, 0],linestyle=':')#This plots the horizontal line at V=0\n",
    "\n",
    "\n",
    "plt.legend()\n",
    "plt.title(' 2 Tanks lecture problem 10.8 modified')\n",
    "plt.xlabel('Time ($s$)')\n",
    "plt.ylabel('Volume ($m^3$)')"
   ]
  },
  {
   "cell_type": "code",
   "execution_count": 16,
   "metadata": {},
   "outputs": [
    {
     "name": "stdout",
     "output_type": "stream",
     "text": [
      "        Summary of Results\n",
      "\n",
      "   t   V (numerical)   V Analytical  \n",
      "  (s)   (m^3)         (m^3)     \n",
      "  0.00     1.2000         1.2000  \n",
      "  0.80     1.2392         1.2392  \n",
      "  1.60     1.2768         1.2768  \n",
      "  2.40     1.3128         1.3128  \n",
      "  3.20     1.3472         1.3472  \n",
      "  4.00     1.3800         1.3800  \n",
      "  4.80     1.4112         1.4112  \n",
      "  5.60     1.4408         1.4408  \n",
      "  6.40     1.4688         1.4688  \n",
      "  7.20     1.4952         1.4952  \n",
      "  8.00     1.5200         1.5200  \n",
      "  8.80     1.5432         1.5432  \n",
      "  9.60     1.5648         1.5648  \n",
      " 10.40     1.5848         1.5848  \n",
      " 11.20     1.6032         1.6032  \n",
      " 12.00     1.6200         1.6200  \n",
      " 12.80     1.6352         1.6352  \n",
      " 13.60     1.6488         1.6488  \n",
      " 14.40     1.6608         1.6608  \n",
      " 15.20     1.6712         1.6712  \n",
      " 16.00     1.6800         1.6800  \n",
      " 16.80     1.6872         1.6872  \n",
      " 17.60     1.6928         1.6928  \n",
      " 18.40     1.6968         1.6968  \n",
      " 19.20     1.6992         1.6992  \n",
      " 20.00     1.7000         1.7000  \n",
      " 20.80     1.6992         1.6992  \n",
      " 21.60     1.6968         1.6968  \n",
      " 22.40     1.6928         1.6928  \n",
      " 23.20     1.6872         1.6872  \n",
      " 24.00     1.6800         1.6800  \n",
      " 24.80     1.6712         1.6712  \n",
      " 25.60     1.6608         1.6608  \n",
      " 26.40     1.6488         1.6488  \n",
      " 27.20     1.6352         1.6352  \n",
      " 28.00     1.6200         1.6200  \n",
      " 28.80     1.6032         1.6032  \n",
      " 29.60     1.5848         1.5848  \n",
      " 30.40     1.5648         1.5648  \n",
      " 31.20     1.5432         1.5432  \n",
      " 32.00     1.5200         1.5200  \n",
      " 32.80     1.4952         1.4952  \n",
      " 33.60     1.4688         1.4688  \n",
      " 34.40     1.4408         1.4408  \n",
      " 35.20     1.4112         1.4112  \n",
      " 36.00     1.3800         1.3800  \n",
      " 36.80     1.3472         1.3472  \n",
      " 37.60     1.3128         1.3128  \n",
      " 38.40     1.2768         1.2768  \n",
      " 39.20     1.2392         1.2392  \n",
      " 40.00     1.2000         1.2000  \n",
      " 40.80     1.1592         1.1592  \n",
      " 41.60     1.1168         1.1168  \n",
      " 42.40     1.0728         1.0728  \n",
      " 43.20     1.0272         1.0272  \n",
      " 44.00     0.9800         0.9800  \n",
      " 44.80     0.9312         0.9312  \n",
      " 45.60     0.8808         0.8808  \n",
      " 46.40     0.8288         0.8288  \n",
      " 47.20     0.7752         0.7752  \n",
      " 48.00     0.7200         0.7200  \n",
      " 48.80     0.6632         0.6632  \n",
      " 49.60     0.6048         0.6048  \n",
      " 50.40     0.5448         0.5448  \n",
      " 51.20     0.4832         0.4832  \n",
      " 52.00     0.4200         0.4200  \n",
      " 52.80     0.3552         0.3552  \n",
      " 53.60     0.2888         0.2888  \n",
      " 54.40     0.2208         0.2208  \n",
      " 55.20     0.1512         0.1512  \n",
      " 56.00     0.0800         0.0800  \n",
      " 56.80     0.0072         0.0072  \n",
      " 57.60    -0.0672        -0.0672  \n",
      " 58.40    -0.1432        -0.1432  \n",
      " 59.20    -0.2208        -0.2208  \n",
      " 60.00    -0.3000        -0.3000  \n",
      " 60.80    -0.3808        -0.3808  \n",
      " 61.60    -0.4632        -0.4632  \n",
      " 62.40    -0.5472        -0.5472  \n",
      " 63.20    -0.6328        -0.6328  \n",
      " 64.00    -0.7200        -0.7200  \n",
      " 64.80    -0.8088        -0.8088  \n",
      " 65.60    -0.8992        -0.8992  \n",
      " 66.40    -0.9912        -0.9912  \n",
      " 67.20    -1.0848        -1.0848  \n",
      " 68.00    -1.1800        -1.1800  \n",
      " 68.80    -1.2768        -1.2768  \n",
      " 69.60    -1.3752        -1.3752  \n",
      " 70.40    -1.4752        -1.4752  \n",
      " 71.20    -1.5768        -1.5768  \n",
      " 72.00    -1.6800        -1.6800  \n",
      " 72.80    -1.7848        -1.7848  \n",
      " 73.60    -1.8912        -1.8912  \n",
      " 74.40    -1.9992        -1.9992  \n",
      " 75.20    -2.1088        -2.1088  \n",
      " 76.00    -2.2200        -2.2200  \n",
      " 76.80    -2.3328        -2.3328  \n",
      " 77.60    -2.4472        -2.4472  \n",
      " 78.40    -2.5632        -2.5632  \n",
      " 79.20    -2.6808        -2.6808  \n",
      " 80.00    -2.8000        -2.8000  \n"
     ]
    }
   ],
   "source": [
    "#This cell prints a table of values.  numrows=len(sol.t)#The function len() determines the length of the array (vector or list) \n",
    "numrows=len(sol.t)#This way we don't need to type 101 or any other number\n",
    "print('        Summary of Results\\n')\n",
    "Vanal=np.zeros(numrows)# This initializes an array that will store the analytical solution\n",
    "print('   t   V (numerical)   V Analytical  ')\n",
    "print('  (s)   (m^3)         (m^3)     ')\n",
    "\n",
    "row=0\n",
    "for row in range(101):\n",
    "    Vanal[row]=1.2+0.05*sol.t[row]-0.00125*sol.t[row]**2\n",
    "    print('{:6.2f} {:10.4f}     {:10.4f}  '.format(sol.t[row],sol.y[0,row],Vanal[row] ))\n",
    "\n"
   ]
  },
  {
   "cell_type": "code",
   "execution_count": 17,
   "metadata": {},
   "outputs": [],
   "source": [
    "#Function to find t at V<0\n",
    "#This function is to return the values of the 2 derivatives for the reaction A => B with first order kinetics\n",
    "def  ODEfun(t,Yfuncvec):#fun(t,y) and return dy/dt\n",
    "    V = Yfuncvec[0] \n",
    "    draintime = Yfuncvec[1]\n",
    "    dVdt = 0.05-0.0025*t \n",
    "#This if statement will count each second that the Volume is greater than zero\n",
    "    if V<=0:\n",
    "        ddraintimedt=0\n",
    "    else:\n",
    "        ddraintimedt=1#\n",
    "     \n",
    "    dYfuncvecdt = [dVdt,ddraintimedt] \n",
    "    return dYfuncvecdt "
   ]
  },
  {
   "cell_type": "code",
   "execution_count": 18,
   "metadata": {},
   "outputs": [
    {
     "name": "stdout",
     "output_type": "stream",
     "text": [
      "[0.05, 1]\n"
     ]
    }
   ],
   "source": [
    "#test of function ODEfun.  This will return values of dFA/dV=rA and dFB/dV=-rA at a value of V\n",
    "V0 = [1.2,0] # Initial values for the dependent variables V\n",
    "sol=ODEfun(0,V0)#Evaluates the derivatives at t=0s\n",
    "print (sol)"
   ]
  },
  {
   "cell_type": "code",
   "execution_count": 19,
   "metadata": {},
   "outputs": [
    {
     "name": "stdout",
     "output_type": "stream",
     "text": [
      "  message: 'The solver successfully reached the end of the integration interval.'\n",
      "     nfev: 380\n",
      "     njev: 0\n",
      "      nlu: 0\n",
      "      sol: None\n",
      "   status: 0\n",
      "  success: True\n",
      "        t: array([ 0. ,  0.8,  1.6,  2.4,  3.2,  4. ,  4.8,  5.6,  6.4,  7.2,  8. ,\n",
      "        8.8,  9.6, 10.4, 11.2, 12. , 12.8, 13.6, 14.4, 15.2, 16. , 16.8,\n",
      "       17.6, 18.4, 19.2, 20. , 20.8, 21.6, 22.4, 23.2, 24. , 24.8, 25.6,\n",
      "       26.4, 27.2, 28. , 28.8, 29.6, 30.4, 31.2, 32. , 32.8, 33.6, 34.4,\n",
      "       35.2, 36. , 36.8, 37.6, 38.4, 39.2, 40. , 40.8, 41.6, 42.4, 43.2,\n",
      "       44. , 44.8, 45.6, 46.4, 47.2, 48. , 48.8, 49.6, 50.4, 51.2, 52. ,\n",
      "       52.8, 53.6, 54.4, 55.2, 56. , 56.8, 57.6, 58.4, 59.2, 60. , 60.8,\n",
      "       61.6, 62.4, 63.2, 64. , 64.8, 65.6, 66.4, 67.2, 68. , 68.8, 69.6,\n",
      "       70.4, 71.2, 72. , 72.8, 73.6, 74.4, 75.2, 76. , 76.8, 77.6, 78.4,\n",
      "       79.2, 80. ])\n",
      " t_events: None\n",
      "        y: array([[ 1.20000000e+00,  1.23920000e+00,  1.27680000e+00,\n",
      "         1.31280000e+00,  1.34720000e+00,  1.38000000e+00,\n",
      "         1.41120000e+00,  1.44080000e+00,  1.46880000e+00,\n",
      "         1.49520000e+00,  1.52000000e+00,  1.54320000e+00,\n",
      "         1.56480000e+00,  1.58480000e+00,  1.60320000e+00,\n",
      "         1.62000000e+00,  1.63520000e+00,  1.64880000e+00,\n",
      "         1.66080000e+00,  1.67120000e+00,  1.68000000e+00,\n",
      "         1.68720000e+00,  1.69280000e+00,  1.69680000e+00,\n",
      "         1.69920000e+00,  1.70000000e+00,  1.69920000e+00,\n",
      "         1.69680000e+00,  1.69280000e+00,  1.68720000e+00,\n",
      "         1.68000000e+00,  1.67120000e+00,  1.66080000e+00,\n",
      "         1.64880000e+00,  1.63520000e+00,  1.62000000e+00,\n",
      "         1.60320000e+00,  1.58480000e+00,  1.56480000e+00,\n",
      "         1.54320000e+00,  1.52000000e+00,  1.49520000e+00,\n",
      "         1.46880000e+00,  1.44080000e+00,  1.41120000e+00,\n",
      "         1.38000000e+00,  1.34720000e+00,  1.31280000e+00,\n",
      "         1.27680000e+00,  1.23920000e+00,  1.20000000e+00,\n",
      "         1.15920000e+00,  1.11680000e+00,  1.07280000e+00,\n",
      "         1.02720000e+00,  9.80000000e-01,  9.31200000e-01,\n",
      "         8.80800000e-01,  8.28800000e-01,  7.75200000e-01,\n",
      "         7.20000000e-01,  6.63200000e-01,  6.04800000e-01,\n",
      "         5.44800000e-01,  4.83200000e-01,  4.20000000e-01,\n",
      "         3.55200000e-01,  2.88800000e-01,  2.20800000e-01,\n",
      "         1.51200000e-01,  8.00000000e-02,  7.20000000e-03,\n",
      "        -6.72000000e-02, -1.43200000e-01, -2.20800000e-01,\n",
      "        -3.00000000e-01, -3.80800000e-01, -4.63200000e-01,\n",
      "        -5.47200000e-01, -6.32800000e-01, -7.20000000e-01,\n",
      "        -8.08800000e-01, -8.99200000e-01, -9.91200000e-01,\n",
      "        -1.08480000e+00, -1.18000000e+00, -1.27680000e+00,\n",
      "        -1.37520000e+00, -1.47520000e+00, -1.57680000e+00,\n",
      "        -1.68000000e+00, -1.78480000e+00, -1.89120000e+00,\n",
      "        -1.99920000e+00, -2.10880000e+00, -2.22000000e+00,\n",
      "        -2.33280000e+00, -2.44720000e+00, -2.56320000e+00,\n",
      "        -2.68080000e+00, -2.80000000e+00],\n",
      "       [ 0.00000000e+00,  8.00000000e-01,  1.60000000e+00,\n",
      "         2.40000000e+00,  3.20000000e+00,  4.00000000e+00,\n",
      "         4.80000000e+00,  5.60000000e+00,  6.40000000e+00,\n",
      "         7.20000000e+00,  8.00000000e+00,  8.80000000e+00,\n",
      "         9.60000000e+00,  1.04000000e+01,  1.12000000e+01,\n",
      "         1.20000000e+01,  1.28000000e+01,  1.36000000e+01,\n",
      "         1.44000000e+01,  1.52000000e+01,  1.60000000e+01,\n",
      "         1.68000000e+01,  1.76000000e+01,  1.84000000e+01,\n",
      "         1.92000000e+01,  2.00000000e+01,  2.08000000e+01,\n",
      "         2.16000000e+01,  2.24000000e+01,  2.32000000e+01,\n",
      "         2.40000000e+01,  2.48000000e+01,  2.56000000e+01,\n",
      "         2.64000000e+01,  2.72000000e+01,  2.80000000e+01,\n",
      "         2.88000000e+01,  2.96000000e+01,  3.04000000e+01,\n",
      "         3.12000000e+01,  3.20000000e+01,  3.28000000e+01,\n",
      "         3.36000000e+01,  3.44000000e+01,  3.52000000e+01,\n",
      "         3.60000000e+01,  3.68000000e+01,  3.76000000e+01,\n",
      "         3.84000000e+01,  3.92000000e+01,  4.00000000e+01,\n",
      "         4.08000000e+01,  4.16000000e+01,  4.24000000e+01,\n",
      "         4.32000000e+01,  4.40000000e+01,  4.48000000e+01,\n",
      "         4.56000000e+01,  4.64000000e+01,  4.72000000e+01,\n",
      "         4.80000000e+01,  4.88000000e+01,  4.96000000e+01,\n",
      "         5.04000000e+01,  5.12000000e+01,  5.20000000e+01,\n",
      "         5.28000000e+01,  5.36000000e+01,  5.44000000e+01,\n",
      "         5.52000000e+01,  5.60000000e+01,  5.68000000e+01,\n",
      "         5.68782072e+01,  5.68782072e+01,  5.68782072e+01,\n",
      "         5.68782072e+01,  5.68782072e+01,  5.68782072e+01,\n",
      "         5.68782072e+01,  5.68782072e+01,  5.68782072e+01,\n",
      "         5.68782072e+01,  5.68782072e+01,  5.68782072e+01,\n",
      "         5.68782072e+01,  5.68782072e+01,  5.68782072e+01,\n",
      "         5.68782072e+01,  5.68782072e+01,  5.68782072e+01,\n",
      "         5.68782072e+01,  5.68782072e+01,  5.68782072e+01,\n",
      "         5.68782072e+01,  5.68782072e+01,  5.68782072e+01,\n",
      "         5.68782072e+01,  5.68782072e+01,  5.68782072e+01,\n",
      "         5.68782072e+01,  5.68782072e+01]])\n"
     ]
    }
   ],
   "source": [
    "#makes a smoother line by using more values\n",
    "tspan=(0,80)\n",
    "teval=np.linspace(tspan[0],tspan[1],101)\n",
    "sol=solve_ivp(ODEfun,tspan,V0,t_eval=teval,rtol=1e-8)#We needed to add an relative tolerance (rtol) to get a precise answer\n",
    "print (sol)"
   ]
  },
  {
   "cell_type": "code",
   "execution_count": 88,
   "metadata": {},
   "outputs": [
    {
     "name": "stdout",
     "output_type": "stream",
     "text": [
      "The drain time is 56.87825570239642 s\n"
     ]
    }
   ],
   "source": [
    "print('The drain time is',sol.y[1][-1],'s')"
   ]
  },
  {
   "cell_type": "code",
   "execution_count": 89,
   "metadata": {},
   "outputs": [
    {
     "name": "stdout",
     "output_type": "stream",
     "text": [
      "The drain time is 56.88s\n"
     ]
    }
   ],
   "source": [
    "print('The drain time is{:6.2f}s'  .format(sol.y[1][-1]))\n"
   ]
  },
  {
   "cell_type": "markdown",
   "metadata": {},
   "source": [
    "We can have python find a numerical solution to the $$V=1.2m^3+0.05\\frac{m^3}{s}t-(0.00125\\frac{m^3}{s^2})t^2$$"
   ]
  },
  {
   "cell_type": "code",
   "execution_count": 24,
   "metadata": {},
   "outputs": [
    {
     "name": "stdout",
     "output_type": "stream",
     "text": [
      "[56.87817783]\n",
      "[8.8817842e-16]\n"
     ]
    }
   ],
   "source": [
    "from scipy.optimize import fsolve\n",
    "def root(t):\n",
    "    fv=1.2+0.05*t-0.00125*t**2 #solving the equation for zero\n",
    "    return fv\n",
    "tGuess = [50]\n",
    "\n",
    "draintime=fsolve(root,tGuess)\n",
    "print(draintime)\n",
    "fv=root(draintime)#fv was not defined outside of the function so I define it here\n",
    "print(fv) #This will give the fx values near zero"
   ]
  },
  {
   "cell_type": "markdown",
   "metadata": {},
   "source": [
    "Or we could simply use the quadratic equation\n",
    "$$\\frac{-b\\pm\\sqrt{b^2-4ac}}{2a}$$"
   ]
  },
  {
   "cell_type": "code",
   "execution_count": 23,
   "metadata": {},
   "outputs": [
    {
     "name": "stdout",
     "output_type": "stream",
     "text": [
      "The drain time is 56.878s\n"
     ]
    }
   ],
   "source": [
    "draintime=(-0.05-(0.05**2-4*(-0.00125)*1.2)**0.5)/2/(-0.00125)\n",
    "print('The drain time is {:6.3f}s'  .format((-0.05-(0.05**2-4*(-0.00125)*1.2)**0.5)/2/(-0.00125)))"
   ]
  },
  {
   "cell_type": "code",
   "execution_count": null,
   "metadata": {},
   "outputs": [],
   "source": []
  }
 ],
 "metadata": {
  "kernelspec": {
   "display_name": "Python 3",
   "language": "python",
   "name": "python3"
  },
  "language_info": {
   "codemirror_mode": {
    "name": "ipython",
    "version": 3
   },
   "file_extension": ".py",
   "mimetype": "text/x-python",
   "name": "python",
   "nbconvert_exporter": "python",
   "pygments_lexer": "ipython3",
   "version": "3.7.6"
  }
 },
 "nbformat": 4,
 "nbformat_minor": 4
}
