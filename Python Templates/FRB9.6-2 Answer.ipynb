{
 "cells": [
  {
   "cell_type": "code",
   "execution_count": 2,
   "metadata": {},
   "outputs": [],
   "source": [
    "import math\n",
    "import numpy as np\n",
    "from scipy.optimize import fsolve"
   ]
  },
  {
   "cell_type": "code",
   "execution_count": 6,
   "metadata": {},
   "outputs": [],
   "source": [
    "def NLEfun(Tad):\n",
    "    #Temperatures\n",
    "    Tfuel= 25+273.15 #degC (reference temperature)\n",
    "    Tair= 100+273.15 #degC\n",
    "    To=Tfuel\n",
    "    \n",
    "    #Inlets\n",
    "    n1_in=1 #CH3OH mol\n",
    "    n2_in=1.5*2 #O2 mol\n",
    "    n3_in=n2_in*3.76 #N2 mol\n",
    "    n4_in=0 #CO2 mol\n",
    "    n5_in=0 #Water(v) mol\n",
    "\n",
    "    #Outlets\n",
    "    n1_out=n1_in-1/1*n1_in #CH3OH mol\n",
    "    n2_out=n2_in-3/2*n1_in #O2 mol\n",
    "    n3_out=n3_in-0 #N2 mol\n",
    "    n4_out=n4_in+1/1*n1_in #CO2 mol\n",
    "    n5_out=n5_in+2/1*n1_in #Water(v) mol\n",
    "\n",
    "    #Reference CH3OH(l), O2(v), N2(v), H2O(l) at T=25 degC, P=1atm\n",
    "\n",
    "    #DeltaHc at 25 degC\n",
    "    deltaHc=-726.6 #kJ/mol\n",
    "    \n",
    "    #Enthalpy values uses DIPPR integrated correlation and values\n",
    "    \n",
    "    #Inlet Enthalpies\n",
    "    H1_in=0 #CH3OH at reference\n",
    "    H2_in=1/1e6*(29103*(Tair-To)+10040*2526.5*(1/np.tanh(2526.5/Tair)-1/np.tanh(2526.5/To))-9356*1153.8*(np.tanh(1153.8/Tair)-np.tanh(1153.8/To)))#kJ/mol\n",
    "    H3_in=1/1e6*(29105*(Tair-To)+8614.9*1701.6*(1/np.tanh(1701.6/Tair)-1/np.tanh(1701.6/To))-103.47*909.79*(np.tanh(909.79/Tair)-np.tanh(909.79/To)))#kJ/mol\n",
    "    H4_in=0 #kJ/mol\n",
    "    H5_in=0 #kJ/mol\n",
    "\n",
    "\n",
    "    #Outlet Enthalpies\n",
    "    H1_out=0 #Full conversion of CH3OH\n",
    "    H2_out=1/1e6*(29103*(Tad-To)+10040*2526.5*(1/np.tanh(2526.5/Tad)-1/np.tanh(2526.5/To))-9356*1153.8*(np.tanh(1153.8/Tad)-np.tanh(1153.8/To)))#kJ/mol\n",
    "    H3_out=1/1e6*(29105*(Tad-To)+8614.9*1701.6*(1/np.tanh(1701.6/Tad)-1/np.tanh(1701.6/To))-103.47*909.79*(np.tanh(909.79/Tad)-np.tanh(909.79/To)))#kJ/mol\n",
    "    H4_out=1/1e6*(29370*(Tad-To)+34540*1428*(1/np.tanh(1428/Tad)-1/np.tanh(1428/To))-26400*588*(np.tanh(588/Tad)-np.tanh(588/To)))#kJ/mol\n",
    "    H5_out=44.013 + 1/1e6*(33363*(Tad-To)+26790*2610.5*(1/np.tanh(2610.5/Tad)-1/np.tanh(2610.5/To))-8896*1169*(np.tanh(1169/Tad)-np.tanh(1169/To)))#kJ/mol\n",
    "\n",
    "    #Inlet Enthaply Flows\n",
    "    H1dot_in=n1_in*H1_in\n",
    "    H2dot_in=n2_in*H2_in\n",
    "    H3dot_in=n3_in*H3_in\n",
    "    H4dot_in=n4_in*H4_in\n",
    "    H5dot_in=n5_in*H5_in\n",
    "\n",
    "    #Outlet Enthalpy Flow\n",
    "    H1dot_out=n1_out*H1_out\n",
    "    H2dot_out=n2_out*H2_out\n",
    "    H3dot_out=n3_out*H3_out\n",
    "    H4dot_out=n4_out*H4_out\n",
    "    H5dot_out=n5_out*H5_out\n",
    "\n",
    "    #Total Enthalpy Flows\n",
    "    Hin=H1dot_in+H2dot_in+H3dot_in+H4dot_in+H5dot_in\n",
    "    Hout=H1dot_out+H2dot_out+H3dot_out+H4dot_out+H5dot_out+deltaHc*n1_in\n",
    "\n",
    "    \n",
    "    #NLEfun\n",
    "    fTad=Hin-Hout\n",
    "    return fTad"
   ]
  },
  {
   "cell_type": "code",
   "execution_count": 8,
   "metadata": {},
   "outputs": [
    {
     "name": "stdout",
     "output_type": "stream",
     "text": [
      "The adiabatic flame temperature is: [1529.59467019] K\n",
      "The adiabatic flame temperature is: [1256.44467019] degC\n"
     ]
    }
   ],
   "source": [
    "Tguess=200\n",
    "sol=fsolve(NLEfun,Tguess)\n",
    "print('The adiabatic flame temperature is:', sol,'K')\n",
    "TadInDegC=sol-273.15\n",
    "print('The adiabatic flame temperature is:', TadInDegC,'degC')"
   ]
  }
 ],
 "metadata": {
  "kernelspec": {
   "display_name": "Python 3",
   "language": "python",
   "name": "python3"
  },
  "language_info": {
   "codemirror_mode": {
    "name": "ipython",
    "version": 3
   },
   "file_extension": ".py",
   "mimetype": "text/x-python",
   "name": "python",
   "nbconvert_exporter": "python",
   "pygments_lexer": "ipython3",
   "version": "3.8.5"
  }
 },
 "nbformat": 4,
 "nbformat_minor": 4
}
